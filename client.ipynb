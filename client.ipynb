{
 "cells": [
  {
   "cell_type": "code",
   "execution_count": null,
   "id": "b9824dfc",
   "metadata": {},
   "outputs": [],
   "source": [
    "import cv2, socket as sk, numpy as np, matplotlib as mlt\n",
    "s = sk.socket(sk.AF_INET, sk.SOCK_STREAM)\n",
    "cam = cv2.VideoCapture('http://192.168.102.206:8080/video')\n",
    "# s.bind((\"192.168.56.101\", 1234))\n",
    "# s.listen(10)\n",
    "# conn, addr = s.accept()\n",
    "s.connect((sk.gethostbyname(sk.gethostname()), 1234))\n",
    "while False:\n",
    "    _, frame = cam.read()\n",
    "    frame_new = cv2.resize(frame,(540,430))\n",
    "    encimg = cv2.imencode('.jpg', frame_new)[1].tobytes()\n",
    "    s.sendall(encimg)\n",
    "    \n",
    "    data = s.recv(90456)\n",
    "    nparr = np.fromstring(data, np.uint8)\n",
    "    decimg = cv2.imdecode(nparr, cv2.IMREAD_COLOR)\n",
    "   \n",
    "    cimg = cv2.resize(frame, (200,150), 3)\n",
    "    if type(decimg) is type(None):\n",
    "        pass\n",
    "    else:\n",
    "        decimg[:150, :200] = cimg\n",
    "        cv2.imshow('openvc', decimg)\n",
    "        if cv2.waitKey(1)== 27:\n",
    "            break\n",
    "#     framesend = cv2.imencode('.jpg', frame)[1].tobyes()\n",
    "#     conn.sendall(framesend)\n",
    "cv2.destroyAllWindows()\n",
    "cam.release()"
   ]
  },
  {
   "cell_type": "code",
   "execution_count": null,
   "id": "2e916dcd",
   "metadata": {},
   "outputs": [],
   "source": [
    "s.close()\n"
   ]
  },
  {
   "cell_type": "code",
   "execution_count": null,
   "id": "b86a83f5",
   "metadata": {},
   "outputs": [],
   "source": []
  }
 ],
 "metadata": {
  "kernelspec": {
   "display_name": "Python 3",
   "language": "python",
   "name": "python3"
  },
  "language_info": {
   "codemirror_mode": {
    "name": "ipython",
    "version": 3
   },
   "file_extension": ".py",
   "mimetype": "text/x-python",
   "name": "python",
   "nbconvert_exporter": "python",
   "pygments_lexer": "ipython3",
   "version": "3.8.8"
  }
 },
 "nbformat": 4,
 "nbformat_minor": 5
}
